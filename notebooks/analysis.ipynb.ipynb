{
 "cells": [
  {
   "cell_type": "markdown",
   "metadata": {},
   "source": [
    "# Análisis de Datos del Cáncer de Mama - Modelos Supervisados\n",
    "Este análisis utiliza el dataset de cáncer de mama (`load_breast_cancer`) para aplicar y evaluar diferentes algoritmos de aprendizaje supervisado, como Naive Bayes, Análisis Discriminante Lineal (LDA) y Regresión Logística. El objetivo es identificar el mejor modelo para clasificar los datos de manera precisa.\n"
   ]
  },
  {
   "cell_type": "markdown",
   "metadata": {},
   "source": [
    "## Importación de Librerías\n",
    "En esta sección, importamos todas las librerías necesarias para el análisis, incluyendo `numpy`, `pandas`, y módulos de `scikit-learn`.\n"
   ]
  },
  {
   "cell_type": "code",
   "execution_count": 10,
   "metadata": {},
   "outputs": [],
   "source": [
    "# Código para importar librerías\n",
    "import os\n",
    "import sys\n",
    "import pandas as pd\n",
    "import numpy as np\n",
    "from data_preprocessing import load_breast_cancer_data, preprocess_data\n",
    "from models import train_all_models, save_model\n",
    "from evaluation import evaluate_all_models, plot_confusion_matrix\n"
   ]
  },
  {
   "cell_type": "markdown",
   "metadata": {},
   "source": [
    "## Configuración del Entorno de Trabajo\n",
    "Añadimos la ruta del proyecto al sistema para poder acceder a los scripts de preprocesamiento y modelos.\n"
   ]
  },
  {
   "cell_type": "code",
   "execution_count": 11,
   "metadata": {},
   "outputs": [],
   "source": [
    "# Código para configurar el entorno\n",
    "# ingresa tu ruta project_path = r'.../supervised-learning-analysis'\n",
    "sys.path.append(os.path.join(project_path, 'src'))\n"
   ]
  },
  {
   "cell_type": "markdown",
   "metadata": {},
   "source": [
    "## Carga y Exploración de Datos\n",
    "Cargamos el dataset de cáncer de mama y realizamos una exploración básica para entender sus características. Esto incluye la verificación del tamaño del dataset y la visualización de las primeras filas.\n"
   ]
  },
  {
   "cell_type": "code",
   "execution_count": 12,
   "metadata": {},
   "outputs": [
    {
     "name": "stdout",
     "output_type": "stream",
     "text": [
      "Tamaño del dataset: (569, 30)\n"
     ]
    },
    {
     "data": {
      "text/html": [
       "<div>\n",
       "<style scoped>\n",
       "    .dataframe tbody tr th:only-of-type {\n",
       "        vertical-align: middle;\n",
       "    }\n",
       "\n",
       "    .dataframe tbody tr th {\n",
       "        vertical-align: top;\n",
       "    }\n",
       "\n",
       "    .dataframe thead th {\n",
       "        text-align: right;\n",
       "    }\n",
       "</style>\n",
       "<table border=\"1\" class=\"dataframe\">\n",
       "  <thead>\n",
       "    <tr style=\"text-align: right;\">\n",
       "      <th></th>\n",
       "      <th>Radius_mean</th>\n",
       "      <th>Texture_mean</th>\n",
       "      <th>Perimeter_mean</th>\n",
       "      <th>Area_mean</th>\n",
       "      <th>Smoothness_mean</th>\n",
       "      <th>Compactness_mean</th>\n",
       "      <th>Concavity_mean</th>\n",
       "      <th>Concave_points_mean</th>\n",
       "      <th>Symmetry_mean</th>\n",
       "      <th>Fractal_dimension_mean</th>\n",
       "      <th>...</th>\n",
       "      <th>Radius_worst</th>\n",
       "      <th>Texture_worst</th>\n",
       "      <th>Perimeter_worst</th>\n",
       "      <th>Area_worst</th>\n",
       "      <th>Smoothness_worst</th>\n",
       "      <th>Compactness_worst</th>\n",
       "      <th>Concavity_worst</th>\n",
       "      <th>Concave_points_worst</th>\n",
       "      <th>Symmetry_worst</th>\n",
       "      <th>Fractal_dimension_worst</th>\n",
       "    </tr>\n",
       "  </thead>\n",
       "  <tbody>\n",
       "    <tr>\n",
       "      <th>0</th>\n",
       "      <td>17.99</td>\n",
       "      <td>10.38</td>\n",
       "      <td>122.80</td>\n",
       "      <td>1001.0</td>\n",
       "      <td>0.11840</td>\n",
       "      <td>0.27760</td>\n",
       "      <td>0.3001</td>\n",
       "      <td>0.14710</td>\n",
       "      <td>0.2419</td>\n",
       "      <td>0.07871</td>\n",
       "      <td>...</td>\n",
       "      <td>25.38</td>\n",
       "      <td>17.33</td>\n",
       "      <td>184.60</td>\n",
       "      <td>2019.0</td>\n",
       "      <td>0.1622</td>\n",
       "      <td>0.6656</td>\n",
       "      <td>0.7119</td>\n",
       "      <td>0.2654</td>\n",
       "      <td>0.4601</td>\n",
       "      <td>0.11890</td>\n",
       "    </tr>\n",
       "    <tr>\n",
       "      <th>1</th>\n",
       "      <td>20.57</td>\n",
       "      <td>17.77</td>\n",
       "      <td>132.90</td>\n",
       "      <td>1326.0</td>\n",
       "      <td>0.08474</td>\n",
       "      <td>0.07864</td>\n",
       "      <td>0.0869</td>\n",
       "      <td>0.07017</td>\n",
       "      <td>0.1812</td>\n",
       "      <td>0.05667</td>\n",
       "      <td>...</td>\n",
       "      <td>24.99</td>\n",
       "      <td>23.41</td>\n",
       "      <td>158.80</td>\n",
       "      <td>1956.0</td>\n",
       "      <td>0.1238</td>\n",
       "      <td>0.1866</td>\n",
       "      <td>0.2416</td>\n",
       "      <td>0.1860</td>\n",
       "      <td>0.2750</td>\n",
       "      <td>0.08902</td>\n",
       "    </tr>\n",
       "    <tr>\n",
       "      <th>2</th>\n",
       "      <td>19.69</td>\n",
       "      <td>21.25</td>\n",
       "      <td>130.00</td>\n",
       "      <td>1203.0</td>\n",
       "      <td>0.10960</td>\n",
       "      <td>0.15990</td>\n",
       "      <td>0.1974</td>\n",
       "      <td>0.12790</td>\n",
       "      <td>0.2069</td>\n",
       "      <td>0.05999</td>\n",
       "      <td>...</td>\n",
       "      <td>23.57</td>\n",
       "      <td>25.53</td>\n",
       "      <td>152.50</td>\n",
       "      <td>1709.0</td>\n",
       "      <td>0.1444</td>\n",
       "      <td>0.4245</td>\n",
       "      <td>0.4504</td>\n",
       "      <td>0.2430</td>\n",
       "      <td>0.3613</td>\n",
       "      <td>0.08758</td>\n",
       "    </tr>\n",
       "    <tr>\n",
       "      <th>3</th>\n",
       "      <td>11.42</td>\n",
       "      <td>20.38</td>\n",
       "      <td>77.58</td>\n",
       "      <td>386.1</td>\n",
       "      <td>0.14250</td>\n",
       "      <td>0.28390</td>\n",
       "      <td>0.2414</td>\n",
       "      <td>0.10520</td>\n",
       "      <td>0.2597</td>\n",
       "      <td>0.09744</td>\n",
       "      <td>...</td>\n",
       "      <td>14.91</td>\n",
       "      <td>26.50</td>\n",
       "      <td>98.87</td>\n",
       "      <td>567.7</td>\n",
       "      <td>0.2098</td>\n",
       "      <td>0.8663</td>\n",
       "      <td>0.6869</td>\n",
       "      <td>0.2575</td>\n",
       "      <td>0.6638</td>\n",
       "      <td>0.17300</td>\n",
       "    </tr>\n",
       "    <tr>\n",
       "      <th>4</th>\n",
       "      <td>20.29</td>\n",
       "      <td>14.34</td>\n",
       "      <td>135.10</td>\n",
       "      <td>1297.0</td>\n",
       "      <td>0.10030</td>\n",
       "      <td>0.13280</td>\n",
       "      <td>0.1980</td>\n",
       "      <td>0.10430</td>\n",
       "      <td>0.1809</td>\n",
       "      <td>0.05883</td>\n",
       "      <td>...</td>\n",
       "      <td>22.54</td>\n",
       "      <td>16.67</td>\n",
       "      <td>152.20</td>\n",
       "      <td>1575.0</td>\n",
       "      <td>0.1374</td>\n",
       "      <td>0.2050</td>\n",
       "      <td>0.4000</td>\n",
       "      <td>0.1625</td>\n",
       "      <td>0.2364</td>\n",
       "      <td>0.07678</td>\n",
       "    </tr>\n",
       "  </tbody>\n",
       "</table>\n",
       "<p>5 rows × 30 columns</p>\n",
       "</div>"
      ],
      "text/plain": [
       "   Radius_mean  Texture_mean  Perimeter_mean  Area_mean  Smoothness_mean  \\\n",
       "0        17.99         10.38          122.80     1001.0          0.11840   \n",
       "1        20.57         17.77          132.90     1326.0          0.08474   \n",
       "2        19.69         21.25          130.00     1203.0          0.10960   \n",
       "3        11.42         20.38           77.58      386.1          0.14250   \n",
       "4        20.29         14.34          135.10     1297.0          0.10030   \n",
       "\n",
       "   Compactness_mean  Concavity_mean  Concave_points_mean  Symmetry_mean  \\\n",
       "0           0.27760          0.3001              0.14710         0.2419   \n",
       "1           0.07864          0.0869              0.07017         0.1812   \n",
       "2           0.15990          0.1974              0.12790         0.2069   \n",
       "3           0.28390          0.2414              0.10520         0.2597   \n",
       "4           0.13280          0.1980              0.10430         0.1809   \n",
       "\n",
       "   Fractal_dimension_mean  ...  Radius_worst  Texture_worst  Perimeter_worst  \\\n",
       "0                 0.07871  ...         25.38          17.33           184.60   \n",
       "1                 0.05667  ...         24.99          23.41           158.80   \n",
       "2                 0.05999  ...         23.57          25.53           152.50   \n",
       "3                 0.09744  ...         14.91          26.50            98.87   \n",
       "4                 0.05883  ...         22.54          16.67           152.20   \n",
       "\n",
       "   Area_worst  Smoothness_worst  Compactness_worst  Concavity_worst  \\\n",
       "0      2019.0            0.1622             0.6656           0.7119   \n",
       "1      1956.0            0.1238             0.1866           0.2416   \n",
       "2      1709.0            0.1444             0.4245           0.4504   \n",
       "3       567.7            0.2098             0.8663           0.6869   \n",
       "4      1575.0            0.1374             0.2050           0.4000   \n",
       "\n",
       "   Concave_points_worst  Symmetry_worst  Fractal_dimension_worst  \n",
       "0                0.2654          0.4601                  0.11890  \n",
       "1                0.1860          0.2750                  0.08902  \n",
       "2                0.2430          0.3613                  0.08758  \n",
       "3                0.2575          0.6638                  0.17300  \n",
       "4                0.1625          0.2364                  0.07678  \n",
       "\n",
       "[5 rows x 30 columns]"
      ]
     },
     "execution_count": 12,
     "metadata": {},
     "output_type": "execute_result"
    }
   ],
   "source": [
    "# Cargar los datos\n",
    "file_path = os.path.join(project_path, 'data', 'wdbc.data')\n",
    "X, y = load_breast_cancer_data(file_path)\n",
    "\n",
    "# Exploración de los datos\n",
    "print(\"Tamaño del dataset:\", X.shape)\n",
    "X.head()\n"
   ]
  },
  {
   "cell_type": "markdown",
   "metadata": {},
   "source": [
    "## Preprocesamiento de Datos\n",
    "En esta sección, preprocesamos los datos aplicando técnicas como la normalización y la división de los datos en conjuntos de entrenamiento y prueba.\n"
   ]
  },
  {
   "cell_type": "code",
   "execution_count": 13,
   "metadata": {},
   "outputs": [],
   "source": [
    "# Preprocesamiento\n",
    "X_train, X_test, y_train, y_test = preprocess_data(X, y)\n"
   ]
  },
  {
   "cell_type": "markdown",
   "metadata": {},
   "source": [
    "## Definición y Entrenamiento de Modelos\n",
    "Entrenamos tres modelos supervisados:\n",
    "- **Naive Bayes**\n",
    "- **Análisis Discriminante Lineal (LDA)**\n",
    "- **Regresión Logística**\n",
    "\n",
    "El objetivo es comparar el rendimiento de cada uno de estos modelos.\n"
   ]
  },
  {
   "cell_type": "code",
   "execution_count": 14,
   "metadata": {},
   "outputs": [],
   "source": [
    "# Entrenamiento de los modelos\n",
    "models = train_all_models(X_train, y_train)\n"
   ]
  },
  {
   "cell_type": "markdown",
   "metadata": {},
   "source": [
    "## Guardado de los Modelos Entrenados\n",
    "Cada modelo se guarda en la carpeta `results/models` para su posterior uso y análisis.\n"
   ]
  },
  {
   "cell_type": "code",
   "execution_count": null,
   "metadata": {},
   "outputs": [],
   "source": [
    "# Guardar los modelos\n",
    "for model_name, model in models.items():\n",
    "    save_model(model, model_name, project_path)\n"
   ]
  },
  {
   "cell_type": "markdown",
   "metadata": {},
   "source": [
    "## Evaluación de Modelos\n",
    "Evaluamos el rendimiento de cada modelo utilizando:\n",
    "- **Matriz de confusión:** Para analizar las predicciones correctas e incorrectas.\n",
    "- **Reporte de clasificación:** Para obtener métricas como precisión, recall y F1-score.\n"
   ]
  },
  {
   "cell_type": "code",
   "execution_count": 27,
   "metadata": {},
   "outputs": [
    {
     "data": {
      "text/html": [
       "\n",
       "    <div style=\"border:1px solid black; padding:10px; margin:10px;\">\n",
       "        <h3>--- Naive Bayes ---</h3>\n",
       "        <p><strong>Accuracy:</strong> 0.9649122807017544</p>\n",
       "        <pre>              precision    recall  f1-score   support\n",
       "\n",
       "           0       0.96      0.99      0.97        71\n",
       "           1       0.98      0.93      0.95        43\n",
       "\n",
       "    accuracy                           0.96       114\n",
       "   macro avg       0.97      0.96      0.96       114\n",
       "weighted avg       0.97      0.96      0.96       114\n",
       "</pre>\n",
       "    </div>\n",
       "    "
      ],
      "text/plain": [
       "<IPython.core.display.HTML object>"
      ]
     },
     "metadata": {},
     "output_type": "display_data"
    },
    {
     "data": {
      "text/html": [
       "\n",
       "    <div style=\"border:1px solid black; padding:10px; margin:10px;\">\n",
       "        <h3>--- LDA ---</h3>\n",
       "        <p><strong>Accuracy:</strong> 0.956140350877193</p>\n",
       "        <pre>              precision    recall  f1-score   support\n",
       "\n",
       "           0       0.95      0.99      0.97        71\n",
       "           1       0.97      0.91      0.94        43\n",
       "\n",
       "    accuracy                           0.96       114\n",
       "   macro avg       0.96      0.95      0.95       114\n",
       "weighted avg       0.96      0.96      0.96       114\n",
       "</pre>\n",
       "    </div>\n",
       "    "
      ],
      "text/plain": [
       "<IPython.core.display.HTML object>"
      ]
     },
     "metadata": {},
     "output_type": "display_data"
    },
    {
     "data": {
      "text/html": [
       "\n",
       "    <div style=\"border:1px solid black; padding:10px; margin:10px;\">\n",
       "        <h3>--- Logistic Regression ---</h3>\n",
       "        <p><strong>Accuracy:</strong> 0.9736842105263158</p>\n",
       "        <pre>              precision    recall  f1-score   support\n",
       "\n",
       "           0       0.97      0.99      0.98        71\n",
       "           1       0.98      0.95      0.96        43\n",
       "\n",
       "    accuracy                           0.97       114\n",
       "   macro avg       0.97      0.97      0.97       114\n",
       "weighted avg       0.97      0.97      0.97       114\n",
       "</pre>\n",
       "    </div>\n",
       "    "
      ],
      "text/plain": [
       "<IPython.core.display.HTML object>"
      ]
     },
     "metadata": {},
     "output_type": "display_data"
    }
   ],
   "source": [
    "from IPython.display import display, HTML\n",
    "\n",
    "# Evaluación de los modelos\n",
    "evaluation_results = evaluate_all_models(models, X_test, y_test)\n",
    "\n",
    "# Crear un DataFrame para los resultados de evaluación\n",
    "results_df = pd.DataFrame({\n",
    "    'Model': list(evaluation_results.keys()),\n",
    "    'Accuracy': [results['accuracy'] for results in evaluation_results.values()],\n",
    "    'Classification Report': [results['classification_report'] for results in evaluation_results.values()]\n",
    "})\n",
    "\n",
    "# Mostrar los informes de clasificación en cuadros\n",
    "for index, row in results_df.iterrows():\n",
    "    display(HTML(f\"\"\"\n",
    "    <div style=\"border:1px solid black; padding:10px; margin:10px;\">\n",
    "        <h3>--- {row['Model']} ---</h3>\n",
    "        <p><strong>Accuracy:</strong> {row['Accuracy']}</p>\n",
    "        <pre>{row['Classification Report']}</pre>\n",
    "    </div>\n",
    "    \"\"\"))"
   ]
  },
  {
   "cell_type": "markdown",
   "metadata": {},
   "source": [
    "## Visualización de las Matrices de Confusión\n",
    "Las matrices de confusión se generan para visualizar el desempeño de cada modelo en la clasificación.\n"
   ]
  },
  {
   "cell_type": "code",
   "execution_count": 17,
   "metadata": {},
   "outputs": [
    {
     "data": {
      "image/png": "[encoded data removed]",
      "text/plain": [
       "<Figure size 640x480 with 2 Axes>"
      ]
     },
     "metadata": {},
     "output_type": "display_data"
    },
    {
     "data": {
      "image/png": "[encoded data removed]",
      "text/plain": [
       "<Figure size 640x480 with 2 Axes>"
      ]
     },
     "metadata": {},
     "output_type": "display_data"
    },
    {
     "data": {
      "image/png": "[encoded data removed]",
      "text/plain": [
       "<Figure size 640x480 with 2 Axes>"
      ]
     },
     "metadata": {},
     "output_type": "display_data"
    }
   ],
   "source": [
    "# Graficar matrices de confusión\n",
    "for model_name, model in models.items():\n",
    "    plot_confusion_matrix(model, X_test, y_test, model_name)\n"
   ]
  },
  {
   "cell_type": "markdown",
   "metadata": {},
   "source": [
    "## Conclusiones\n",
    "\n",
    "- **Rendimiento de los Modelos:** \n",
    "    - **Naive Bayes:** Este modelo tuvo un rendimiento general bueno, logrando una precisión de alrededor del 96%. La matriz de confusión muestra que el modelo tiene una alta tasa de aciertos en ambas clases. Sin embargo, presenta algunos falsos negativos, lo que significa que en algunos casos no logró identificar correctamente los casos positivos (cáncer maligno).\n",
    "    - **Análisis Discriminante Lineal (LDA):** El modelo LDA también mostró un rendimiento competitivo, con una precisión similar a Naive Bayes. Se observa una ligera mejora en la detección de casos positivos, pero aún existen algunas instancias clasificadas incorrectamente. Esto sugiere que el modelo es eficaz, pero podría beneficiarse de una optimización adicional.\n",
    "    - **Regresión Logística:** Este modelo mostró el mejor rendimiento de los tres, con una precisión de aproximadamente 97%. La matriz de confusión indica que la Regresión Logística tiene una mayor capacidad para identificar correctamente tanto los casos positivos como negativos, reduciendo los falsos negativos en comparación con los otros modelos. Esto la hace una opción sólida para este conjunto de datos.\n",
    "\n",
    "- **Modelo Recomendado:** El modelo que mostró el mejor rendimiento fue **Regresión Logística**. Esto se debe a su alta precisión y su balance en la clasificación de las instancias, lo que reduce los errores tanto en las predicciones positivas como negativas. Además, la Regresión Logística demostró una mayor estabilidad al clasificar los casos más difíciles, lo que se refleja en las métricas del informe de clasificación.\n",
    "\n",
    "- **Mejoras Futuras:** \n",
    "    - **Optimización de Hiperparámetros:** Aunque los modelos ya tienen un rendimiento aceptable, es posible mejorarlos aplicando técnicas de optimización de hiperparámetros, como `GridSearchCV` o `RandomizedSearchCV`. Esto podría ayudar a encontrar los valores óptimos para los parámetros de cada modelo, aumentando su precisión y capacidad de generalización.\n",
    "    - **Explorar Otros Modelos:** Probar otros algoritmos de clasificación como **Árboles de Decisión**, **Máquinas de Soporte Vectorial (SVM)**, o incluso modelos más complejos como **Random Forest** y **XGBoost**. Esto podría proporcionar comparativas más sólidas y explorar diferentes perspectivas del conjunto de datos.\n",
    "    - **Validación Cruzada:** Implementar una validación cruzada para evaluar la robustez de los modelos y asegurar que el rendimiento observado no dependa de una partición específica de los datos.\n",
    "    - **Análisis Adicional:** Profundizar en las características más importantes del dataset que influyen en las predicciones de cada modelo, lo que podría ser útil para una interpretación más detallada y la toma de decisiones en contextos clínicos.\n"
   ]
  }
 ],
 "metadata": {
  "kernelspec": {
   "display_name": "venv",
   "language": "python",
   "name": "python3"
  },
  "language_info": {
   "codemirror_mode": {
    "name": "ipython",
    "version": 3
   },
   "file_extension": ".py",
   "mimetype": "text/x-python",
   "name": "python",
   "nbconvert_exporter": "python",
   "pygments_lexer": "ipython3",
   "version": "3.12.6"
  }
 },
 "nbformat": 4,
 "nbformat_minor": 2
}
